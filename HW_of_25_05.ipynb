{
  "nbformat": 4,
  "nbformat_minor": 0,
  "metadata": {
    "colab": {
      "name": "HW of 25/05.ipynb",
      "provenance": [],
      "authorship_tag": "ABX9TyMEstSi9DPIFWrMR8AViyXa",
      "include_colab_link": true
    },
    "kernelspec": {
      "name": "python3",
      "display_name": "Python 3"
    },
    "language_info": {
      "name": "python"
    }
  },
  "cells": [
    {
      "cell_type": "markdown",
      "metadata": {
        "id": "view-in-github",
        "colab_type": "text"
      },
      "source": [
        "<a href=\"https://colab.research.google.com/github/Unbeatable2687/HW-of-18-5/blob/main/HW_of_25_05.ipynb\" target=\"_parent\"><img src=\"https://colab.research.google.com/assets/colab-badge.svg\" alt=\"Open In Colab\"/></a>"
      ]
    },
    {
      "cell_type": "code",
      "source": [
        "#1st problem\n",
        "import random\n",
        "x=random.randint(1,10)\n",
        "\n",
        "print(\"hey user u have to guess a number bbetween 1 to 10 , you have 3 tries.\")\n",
        "\n",
        "y=0\n",
        "\n",
        "while y<3:\n",
        "  z=int(input())\n",
        "  y+=1\n",
        "\n",
        "  if z>x:\n",
        "    print(\"the no. is too high\")\n",
        "  elif z<x:\n",
        "    print(\"the no. is too low\")\n",
        "  elif z==x:\n",
        "    print(\"coongratulations you have guessed correctly\")\n",
        "    break\n",
        "else:\n",
        "    print(\"try again later, the no. was\",x)\n"
      ],
      "metadata": {
        "colab": {
          "base_uri": "https://localhost:8080/"
        },
        "id": "ay78xIGGRiaX",
        "outputId": "cda4d46d-7c35-4fb8-b6f7-c85cbacc4a90"
      },
      "execution_count": 33,
      "outputs": [
        {
          "output_type": "stream",
          "name": "stdout",
          "text": [
            "hey user u have to guess a number bbetween 1 to 10 , you have 3 tries.\n",
            "1\n",
            "the no. is too low\n",
            "10\n",
            "the no. is too high\n",
            "2\n",
            "the no. is too low\n",
            "try again later, the no. was 9\n"
          ]
        }
      ]
    },
    {
      "cell_type": "code",
      "source": [
        "#2nd problem\n",
        "help=\"start= start the car\", \"stop= stop the car\",\"quit= quit the game\"\n",
        "command=input(\"Enter in lower cases: \")\n",
        "\n",
        "if command == \"start\":\n",
        "  if started:\n",
        "    print(\"Car already started\")\n",
        "  else:\n",
        "    print(\"Car started!!\")\n",
        "    started==True\n",
        "\n",
        "elif command == \"stop\":\n",
        "  if not started:\n",
        "    print(\"Car already stopped\")\n",
        "  else:\n",
        "    print(\"Car has now stopped!!\")\n",
        "    started==False\n",
        "\n",
        "elif command == \"quit\":\n",
        "  print(\"Game quit, try again next time!\")\n",
        "\n",
        "elif command == \"help\":\n",
        "  print(help)\n",
        "else:\n",
        "  print(\"Sorry coudn't understand what you were trying to say please enter a real command\")"
      ],
      "metadata": {
        "colab": {
          "base_uri": "https://localhost:8080/"
        },
        "id": "B9eiTXnuSqi3",
        "outputId": "eefc3155-efb6-4a3e-f97e-f6978806f411"
      },
      "execution_count": 41,
      "outputs": [
        {
          "output_type": "stream",
          "name": "stdout",
          "text": [
            "Enter in lower cases: start\n",
            "Car started!!\n"
          ]
        }
      ]
    }
  ]
}