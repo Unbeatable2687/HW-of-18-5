{
  "nbformat": 4,
  "nbformat_minor": 0,
  "metadata": {
    "colab": {
      "name": "HW of 19/05/22.ipynb",
      "provenance": [],
      "authorship_tag": "ABX9TyNAgLQZOWcJpnAYrV+nMW5+",
      "include_colab_link": true
    },
    "kernelspec": {
      "name": "python3",
      "display_name": "Python 3"
    },
    "language_info": {
      "name": "python"
    }
  },
  "cells": [
    {
      "cell_type": "markdown",
      "metadata": {
        "id": "view-in-github",
        "colab_type": "text"
      },
      "source": [
        "<a href=\"https://colab.research.google.com/github/Unbeatable2687/HW-of-18-5/blob/main/HW_of_19_05_22.ipynb\" target=\"_parent\"><img src=\"https://colab.research.google.com/assets/colab-badge.svg\" alt=\"Open In Colab\"/></a>"
      ]
    },
    {
      "cell_type": "code",
      "execution_count": 1,
      "metadata": {
        "colab": {
          "base_uri": "https://localhost:8080/"
        },
        "id": "BYHFFZ7YTG0F",
        "outputId": "187cc1bd-3c0a-4d82-aa06-d0e4b27ec1c9"
      },
      "outputs": [
        {
          "output_type": "stream",
          "name": "stdout",
          "text": [
            "Enter the number of rows: 5\n",
            "        * \n",
            "       * * \n",
            "      * * * \n",
            "     * * * * \n",
            "    * * * * * \n",
            "  *************\n",
            " *             *\n",
            "  *************\n",
            "   * * * * * * \n",
            "    * * * * * \n",
            "     * * * * \n",
            "      * * * \n",
            "       * * \n",
            "        * \n"
          ]
        }
      ],
      "source": [
        "#Star\n",
        "rows = int(input(\"Enter the number of rows: \"))  \n",
        "  \n",
        "\n",
        "k = 2 * rows - 2  \n",
        "\n",
        "for i in range(0, rows):  \n",
        "    for j in range(0, k):  \n",
        "        print(end=\" \")  \n",
        "     \n",
        "    k = k - 1  \n",
        "    \n",
        "    for j in range(0, i + 1):  \n",
        "        print(\"* \", end=\"\")  \n",
        "    print(\"\")  \n",
        "  \n",
        "print(\" \",'*' * (rows*5-12))\n",
        "print(\"\",\"*\" , \"           \",\"*\")\n",
        " \n",
        "print(\" \",'*' * (rows*5-12)) \n",
        "\n",
        "\n",
        "\n",
        "k = rows - 2  \n",
        " \n",
        "for i in range(rows, -1, -1):  \n",
        "    for j in range(k, 0, -1):  \n",
        "        print(end=\" \")  \n",
        "     \n",
        "    k = k + 1  \n",
        "   \n",
        "    for j in range(0, i + 1):  \n",
        "        print(\"* \", end=\"\")  \n",
        "    print(\"\")  \n"
      ]
    },
    {
      "cell_type": "code",
      "source": [
        "#Diamond\n",
        "rows = int(input(\"Enter the number of rows: \"))  \n",
        "  \n",
        "\n",
        "k = 2 * rows - 2  \n",
        "\n",
        "for i in range(0, rows):  \n",
        "    for j in range(0, k):  \n",
        "        print(end=\" \")  \n",
        "     \n",
        "    k = k - 1  \n",
        "    \n",
        "    for j in range(0, i + 1):  \n",
        "        print(\"* \", end=\"\")  \n",
        "    print(\"\")  \n",
        "  \n",
        "\n",
        "\n",
        "k = rows - 2  \n",
        " \n",
        "for i in range(rows, -1, -1):  \n",
        "    for j in range(k, 0, -1):  \n",
        "        print(end=\" \")  \n",
        "     \n",
        "    k = k + 1  \n",
        "   \n",
        "    for j in range(0, i + 1):  \n",
        "        print(\"* \", end=\"\")  \n",
        "    print(\"\")  "
      ],
      "metadata": {
        "colab": {
          "base_uri": "https://localhost:8080/"
        },
        "id": "w7ivW07VTY2P",
        "outputId": "288c7753-0dd6-48b5-b5c2-a75f0c5f0627"
      },
      "execution_count": 15,
      "outputs": [
        {
          "output_type": "stream",
          "name": "stdout",
          "text": [
            "Enter the number of rows: 5\n",
            "        * \n",
            "       * * \n",
            "      * * * \n",
            "     * * * * \n",
            "    * * * * * \n",
            "   * * * * * * \n",
            "    * * * * * \n",
            "     * * * * \n",
            "      * * * \n",
            "       * * \n",
            "        * \n"
          ]
        }
      ]
    },
    {
      "cell_type": "code",
      "source": [
        "#pascals triangle\n",
        "n = int(input(\"Enter the no of rows:\"))\n",
        " \n",
        "for i in range(1, n+1):\n",
        "    for j in range(0, n-i+1):\n",
        "        print(' ', end='')\n",
        " \n",
        "    x = 1\n",
        "    for j in range(1, i+1):\n",
        " \n",
        "        print(' ', x, sep='', end='')\n",
        " \n",
        "      \n",
        "        x = x * (i - j) // j\n",
        "    print()"
      ],
      "metadata": {
        "colab": {
          "base_uri": "https://localhost:8080/"
        },
        "id": "zwJbxX0AUmbC",
        "outputId": "201c1772-be1b-4aed-dd47-f33bf6b635b9"
      },
      "execution_count": 18,
      "outputs": [
        {
          "output_type": "stream",
          "name": "stdout",
          "text": [
            "Enter the no of rows:5\n",
            "      1\n",
            "     1 1\n",
            "    1 2 1\n",
            "   1 3 3 1\n",
            "  1 4 6 4 1\n"
          ]
        }
      ]
    },
    {
      "cell_type": "code",
      "source": [
        "#house\n",
        "x = int(input(\"Enter the size of the house: \"))\n",
        "y = x*2 -3\n",
        "\n",
        "for i in range(x):\n",
        "  for j in range(y):\n",
        "    print(end=\" \")\n",
        "\n",
        "  y=y-1\n",
        "  for j in range(0,i+1):\n",
        "    print(\"*\", end=\" \")\n",
        "  print()\n",
        "\n",
        "\n",
        "for a in range(x):\n",
        "  for b in range(x*3):\n",
        "    print(\"*\", end=\"\")\n",
        "  print()"
      ],
      "metadata": {
        "colab": {
          "base_uri": "https://localhost:8080/"
        },
        "id": "2iou7WYpWLMF",
        "outputId": "7bd1f841-07a1-472c-b2ef-905d87a9853a"
      },
      "execution_count": 5,
      "outputs": [
        {
          "output_type": "stream",
          "name": "stdout",
          "text": [
            "Enter the size of the house: 5\n",
            "       * \n",
            "      * * \n",
            "     * * * \n",
            "    * * * * \n",
            "   * * * * * \n",
            "***************\n",
            "***************\n",
            "***************\n",
            "***************\n",
            "***************\n"
          ]
        }
      ]
    },
    {
      "cell_type": "code",
      "source": [
        "#shooting weapon\n",
        "rows = int(input(\"Enter size: \"))\n",
        "for i in range(0, rows):\n",
        "    for j in range(0, i + 1):\n",
        "        print(\"*\", end=' ')\n",
        "    print(\" \")\n",
        "\n",
        "print(\" \"* (rows +2), \"* *\", \">\"* rows )\n",
        "for i in range(rows + 1, 0, -1):\n",
        "    for j in range(0, i - 1):\n",
        "        print(\"*\", end=' ')\n",
        "    print(\" \")"
      ],
      "metadata": {
        "colab": {
          "base_uri": "https://localhost:8080/"
        },
        "id": "b0G3yDDYZa7A",
        "outputId": "d7043f71-b277-4f7a-bd8c-b02928df6a73"
      },
      "execution_count": 17,
      "outputs": [
        {
          "output_type": "stream",
          "name": "stdout",
          "text": [
            "Enter size: 5\n",
            "*  \n",
            "* *  \n",
            "* * *  \n",
            "* * * *  \n",
            "* * * * *  \n",
            "        * * >>>>>\n",
            "* * * * *  \n",
            "* * * *  \n",
            "* * *  \n",
            "* *  \n",
            "*  \n",
            " \n"
          ]
        }
      ]
    },
    {
      "cell_type": "code",
      "source": [
        "#sandglass \n",
        "rows = int(input(\"Enter the number of rows: \"))\n",
        "k = rows -2\n",
        "for i in range(rows, -1, -1):  \n",
        "    for j in range(k, 0, -1):  \n",
        "        print(end=\" \")  \n",
        "     \n",
        "    k = k + 1  \n",
        "   \n",
        "    for j in range(0, i + 1):  \n",
        "        print(\"* \", end=\"\")  \n",
        "    print(\"\")\n",
        "\n",
        "k = 2 * rows - 2  \n",
        "\n",
        "for i in range(0, rows):  \n",
        "    for j in range(0, k):  \n",
        "        print(end=\" \")  \n",
        "     \n",
        "    k = k - 1  \n",
        "    \n",
        "    for j in range(0, i + 1):  \n",
        "        print(\"* \", end=\"\")  \n",
        "    print(\"\")  "
      ],
      "metadata": {
        "colab": {
          "base_uri": "https://localhost:8080/"
        },
        "id": "WZzXV7iYvXkT",
        "outputId": "5bf1d376-dd3a-4726-cf83-466c10e89c6c"
      },
      "execution_count": 21,
      "outputs": [
        {
          "output_type": "stream",
          "name": "stdout",
          "text": [
            "Enter the number of rows: 5\n",
            "   * * * * * * \n",
            "    * * * * * \n",
            "     * * * * \n",
            "      * * * \n",
            "       * * \n",
            "        * \n",
            "        * \n",
            "       * * \n",
            "      * * * \n",
            "     * * * * \n",
            "    * * * * * \n"
          ]
        }
      ]
    },
    {
      "cell_type": "code",
      "source": [
        ""
      ],
      "metadata": {
        "id": "b9RaKxlHwWQa"
      },
      "execution_count": null,
      "outputs": []
    }
  ]
}