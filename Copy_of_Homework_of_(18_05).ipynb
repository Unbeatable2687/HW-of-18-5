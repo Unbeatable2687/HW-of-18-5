{
  "nbformat": 4,
  "nbformat_minor": 0,
  "metadata": {
    "colab": {
      "name": "Copy of Homework of (18/05).ipynb",
      "provenance": [],
      "authorship_tag": "ABX9TyNr7BpOrNl/lTS1p2GPC6vB",
      "include_colab_link": true
    },
    "kernelspec": {
      "name": "python3",
      "display_name": "Python 3"
    },
    "language_info": {
      "name": "python"
    }
  },
  "cells": [
    {
      "cell_type": "markdown",
      "metadata": {
        "id": "view-in-github",
        "colab_type": "text"
      },
      "source": [
        "<a href=\"https://colab.research.google.com/github/Unbeatable2687/HW-of-18-5/blob/main/Copy_of_Homework_of_(18_05).ipynb\" target=\"_parent\"><img src=\"https://colab.research.google.com/assets/colab-badge.svg\" alt=\"Open In Colab\"/></a>"
      ]
    },
    {
      "cell_type": "code",
      "source": [
        ""
      ],
      "metadata": {
        "id": "-KwnFf8QOptF"
      },
      "execution_count": null,
      "outputs": []
    },
    {
      "cell_type": "code",
      "execution_count": null,
      "metadata": {
        "colab": {
          "base_uri": "https://localhost:8080/"
        },
        "id": "1iu1pl2P-X0s",
        "outputId": "d7205a75-0540-4f5d-b18d-b72032554916"
      },
      "outputs": [
        {
          "output_type": "stream",
          "name": "stdout",
          "text": [
            "enter a nunber of rows:4\n",
            "* \n",
            "* * \n",
            "* * * \n",
            "* * * * \n"
          ]
        }
      ],
      "source": [
        "#right triangle wiith stars\n",
        "x= int(input(\"enter a nunber of rows:\"))\n",
        "\n",
        "for i in range(x):\n",
        "  for j in range(i + 1):\n",
        "    print(\"* \", end=\"\")\n",
        "  print(\"\")"
      ]
    },
    {
      "cell_type": "code",
      "source": [
        "#inverted right traingle\n",
        "y=int(input(\"Enter no of rows:\"))\n",
        "\n",
        "for i in range(y, 0, -1):\n",
        "    for j in range(0, i):\n",
        "        print(\"* \", end=\" \")\n",
        "    print(\"\")"
      ],
      "metadata": {
        "colab": {
          "base_uri": "https://localhost:8080/"
        },
        "id": "wGFt-cGn-htr",
        "outputId": "19e457c1-fbe6-4487-b3a5-69027d86bf23"
      },
      "execution_count": null,
      "outputs": [
        {
          "output_type": "stream",
          "name": "stdout",
          "text": [
            "Enter no of rows:5\n",
            "*  *  *  *  *  \n",
            "*  *  *  *  \n",
            "*  *  *  \n",
            "*  *  \n",
            "*  \n"
          ]
        }
      ]
    },
    {
      "cell_type": "code",
      "source": [
        "#equialteral triangle\n",
        "a = int(input(\"enter no of rows:\"))\n",
        "m = (2 * a) - 2\n",
        "for i in range(0, a):\n",
        "  for j in range(0, m):\n",
        "    print(end=\" \")\n",
        "    # decreasing m after each loop\n",
        "  m = m - 2\n",
        "  for j in range(0, i + 1):\n",
        "     print(\"* \", end=\"\")\n",
        "  print(\" \")"
      ],
      "metadata": {
        "colab": {
          "base_uri": "https://localhost:8080/"
        },
        "id": "sMtumOy8HJEA",
        "outputId": "5d19a451-aab5-4ce6-db25-8674e52e3683"
      },
      "execution_count": null,
      "outputs": [
        {
          "output_type": "stream",
          "name": "stdout",
          "text": [
            "enter no of rows:5\n",
            "        *   \n",
            "      *  *   \n",
            "    *  *  *   \n",
            "  *  *  *  *   \n",
            "*  *  *  *  *   \n"
          ]
        }
      ]
    },
    {
      "cell_type": "code",
      "source": [
        "#inverted equialteral triangle\n",
        "b=int(input(\"enter no of rows:\"))\n",
        "  \n",
        "k = 2 * b - 2  \n",
        " \n",
        "for i in range(b, -1, -1):    \n",
        "    for j in range(k, 0, -1):  \n",
        "        print(end=\" \")  \n",
        "    k = k + 1  \n",
        "     \n",
        "    for j in range(0, i + 1):  \n",
        "        print(\"*\", end=\" \")  \n",
        "    print(\"\")  "
      ],
      "metadata": {
        "colab": {
          "base_uri": "https://localhost:8080/"
        },
        "id": "3c69NXmfHpFu",
        "outputId": "d5390c90-fc0f-4fdf-ff49-da562b0ff950"
      },
      "execution_count": null,
      "outputs": [
        {
          "output_type": "stream",
          "name": "stdout",
          "text": [
            "enter no of rows:8\n",
            "              * * * * * * * * * \n",
            "               * * * * * * * * \n",
            "                * * * * * * * \n",
            "                 * * * * * * \n",
            "                  * * * * * \n",
            "                   * * * * \n",
            "                    * * * \n",
            "                     * * \n",
            "                      * \n"
          ]
        }
      ]
    }
  ]
}